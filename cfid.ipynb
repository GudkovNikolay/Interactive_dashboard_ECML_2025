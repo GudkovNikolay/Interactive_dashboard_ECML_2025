{
 "cells": [
  {
   "cell_type": "code",
   "execution_count": 1,
   "id": "4f707b57-5afc-4da6-9644-902f8a09a753",
   "metadata": {},
   "outputs": [],
   "source": [
    "from fid import calculate_fid\n",
    "import numpy as np\n",
    "from library.dataset import get_pytorch_datataset"
   ]
  },
  {
   "cell_type": "code",
   "execution_count": 2,
   "id": "8fe1460e-d89a-4551-8faa-3387682a0419",
   "metadata": {},
   "outputs": [],
   "source": [
    "architectures = ['TCN', 'LSTM', 'GRU']"
   ]
  },
  {
   "cell_type": "code",
   "execution_count": 3,
   "id": "b12a8fee-2b51-4d5d-8a9f-121db044aeca",
   "metadata": {},
   "outputs": [],
   "source": [
    "cfid_values = {arch: {} for arch in architectures}"
   ]
  },
  {
   "cell_type": "code",
   "execution_count": null,
   "id": "7f283d4a-5cf6-499c-9a05-04f992f2000c",
   "metadata": {},
   "outputs": [],
   "source": [
    "from library.constants import DEVICE\n",
    "from library.gan_train_loop import load_gan\n",
    "from library.gan import Generator as TCN_Generator\n",
    "from library.gan_LSTM import Generator as LSTM_Generator\n",
    "from library.gan_GRU import Generator as GRU_Generator\n",
    "\n",
    "from library.generation import generate_fake_returns as TCN_generate_fake_returns\n",
    "from library.generation_LSTM import generate_fake_returns as LSTM_generate_fake_returns\n",
    "from library.generation_GRU import generate_fake_returns as GRU_generate_fake_returns\n",
    "\n",
    "GENERATIONS_AMOUNT = 10\n",
    "\n",
    "df_returns_real = get_pytorch_datataset()[0]\n",
    "\n",
    "tcn_generator = TCN_Generator(2).to(DEVICE)\n",
    "load_gan('TCN', tcn_generator, epoch=800)\n",
    "tcn_df_returns_fake = [TCN_generate_fake_returns(tcn_generator, df_returns_real, seed=i) for i in range(GENERATIONS_AMOUNT)]\n",
    "\n",
    "lstm_generator = LSTM_Generator().to(DEVICE)\n",
    "load_gan('LSTM', lstm_generator, epoch=800)\n",
    "lstm_df_returns_fake = [LSTM_generate_fake_returns(lstm_generator, df_returns_real, seed=i) for i in range(GENERATIONS_AMOUNT)]\n",
    "\n",
    "gru_generator = GRU_Generator().to(DEVICE)\n",
    "load_gan('GRU', gru_generator, epoch=800)\n",
    "gru_df_returns_fake = [GRU_generate_fake_returns(gru_generator, df_returns_real, seed=i) for i in range(GENERATIONS_AMOUNT)]\n"
   ]
  },
  {
   "cell_type": "code",
   "execution_count": 7,
   "id": "ee5208de-8cf0-4a76-a04a-0659250bec51",
   "metadata": {},
   "outputs": [],
   "source": [
    "fids = []\n",
    "for traj in tcn_df_returns_fake:\n",
    "    fids.append(calculate_fid(df_returns_real, traj))\n",
    "\n",
    "cfid_values['TCN']['mean'] = np.mean(fids)\n",
    "cfid_values['TCN']['std'] = np.std(fids)"
   ]
  },
  {
   "cell_type": "code",
   "execution_count": 9,
   "id": "1e99af0e-03b0-41cb-ae3c-c04803f93bc5",
   "metadata": {},
   "outputs": [],
   "source": [
    "fids = []\n",
    "for traj in lstm_df_returns_fake:\n",
    "    fids.append(calculate_fid(df_returns_real, traj))\n",
    "\n",
    "cfid_values['LSTM']['mean'] = np.mean(fids)\n",
    "cfid_values['LSTM']['std'] = np.std(fids)"
   ]
  },
  {
   "cell_type": "code",
   "execution_count": 10,
   "id": "10fbe51e-0693-4a2e-ad27-94e059888b44",
   "metadata": {},
   "outputs": [],
   "source": [
    "fids = []\n",
    "for traj in gru_df_returns_fake:\n",
    "    fids.append(calculate_fid(df_returns_real, traj))\n",
    "\n",
    "cfid_values['GRU']['mean'] = np.mean(fids)\n",
    "cfid_values['GRU']['std'] = np.std(fids)"
   ]
  },
  {
   "cell_type": "code",
   "execution_count": 11,
   "id": "c2d3a7b6-7116-41b9-81a3-276e7cd05210",
   "metadata": {},
   "outputs": [
    {
     "data": {
      "text/plain": [
       "{'TCN': {'mean': 0.000224809737867745, 'std': 8.750088205863424e-06},\n",
       " 'LSTM': {'mean': 0.0011258203285543058, 'std': 2.1268350228962416e-05},\n",
       " 'GRU': {'mean': 0.0009432847844564321, 'std': 2.8437548273114842e-05}}"
      ]
     },
     "execution_count": 11,
     "metadata": {},
     "output_type": "execute_result"
    }
   ],
   "source": [
    "cfid_values"
   ]
  },
  {
   "cell_type": "code",
   "execution_count": null,
   "id": "0d69ce09-f61c-4996-8676-7b5332883630",
   "metadata": {},
   "outputs": [],
   "source": []
  }
 ],
 "metadata": {
  "kernelspec": {
   "display_name": "Python 3 (ipykernel)",
   "language": "python",
   "name": "python3"
  },
  "language_info": {
   "codemirror_mode": {
    "name": "ipython",
    "version": 3
   },
   "file_extension": ".py",
   "mimetype": "text/x-python",
   "name": "python",
   "nbconvert_exporter": "python",
   "pygments_lexer": "ipython3",
   "version": "3.11.11"
  }
 },
 "nbformat": 4,
 "nbformat_minor": 5
}
