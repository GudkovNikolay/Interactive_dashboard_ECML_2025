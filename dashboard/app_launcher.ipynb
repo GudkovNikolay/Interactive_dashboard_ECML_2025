{
 "cells": [
  {
   "cell_type": "code",
   "execution_count": 10,
   "id": "552af307-4708-42d1-b2db-cede7960d80a",
   "metadata": {},
   "outputs": [
    {
     "name": "stdout",
     "output_type": "stream",
     "text": [
      "2025-04-08 13:34:05,543 Starting Bokeh server version 3.6.3 (running on Tornado 6.4.2)\n",
      "2025-04-08 13:34:05,546 User authentication hooks NOT provided (default user enabled)\n",
      "2025-04-08 13:34:05,550 Bokeh app running at: http://localhost:5006/app_new\n",
      "2025-04-08 13:34:05,551 Starting Bokeh server with process id: 40944\n",
      "2025-04-08 13:34:06,680 Error running application handler <bokeh.application.handlers.script.ScriptHandler object at 0x10d92ea50>: unexpected attribute 'title' to Div, possible attributes are align, aspect_ratio, context_menu, css_classes, css_variables, disable_math, disabled, elements, flow_mode, height, height_policy, js_event_callbacks, js_property_callbacks, margin, max_height, max_width, min_height, min_width, name, render_as_text, resizable, sizing_mode, styles, stylesheets, subscribed_events, syncable, tags, text, visible, width or width_policy\n",
      "File 'has_props.py', line 377, in _raise_attribute_error_with_matches:\n",
      "raise AttributeError(f\"unexpected attribute {name!r} to {self.__class__.__name__}, {text} attributes are {nice_join(matches)}\") Traceback (most recent call last):\n",
      "  File \"/Users/nikolajgudkov/opt/anaconda3/envs/myenv/lib/python3.11/site-packages/bokeh/application/handlers/code_runner.py\", line 229, in run\n",
      "    exec(self._code, module.__dict__)\n",
      "  File \"/Users/nikolajgudkov/Desktop/курсач/андрей/gan-moex/dashboard/app_new.py\", line 182, in <module>\n",
      "    params_train = create_param_column(\n",
      "                   ^^^^^^^^^^^^^^^^^^^^\n",
      "  File \"/Users/nikolajgudkov/Desktop/курсач/андрей/gan-moex/dashboard/app_new.py\", line 170, in create_param_column\n",
      "    n_start_widget = create_param_display(f\"{n_start}\")\n",
      "                     ^^^^^^^^^^^^^^^^^^^^^^^^^^^^^^^^^^\n",
      "  File \"/Users/nikolajgudkov/Desktop/курсач/андрей/gan-moex/dashboard/app_new.py\", line 107, in create_param_display\n",
      "    return Div(text=text,\n",
      "          ^^^^^^^^^^^^^^\n",
      "  File \"/Users/nikolajgudkov/opt/anaconda3/envs/myenv/lib/python3.11/site-packages/bokeh/models/widgets/markups.py\", line 107, in __init__\n",
      "    super().__init__(*args, **kwargs)\n",
      "  File \"/Users/nikolajgudkov/opt/anaconda3/envs/myenv/lib/python3.11/site-packages/bokeh/models/widgets/markups.py\", line 63, in __init__\n",
      "    super().__init__(*args, **kwargs)\n",
      "  File \"/Users/nikolajgudkov/opt/anaconda3/envs/myenv/lib/python3.11/site-packages/bokeh/models/widgets/widget.py\", line 57, in __init__\n",
      "    super().__init__(*args, **kwargs)\n",
      "  File \"/Users/nikolajgudkov/opt/anaconda3/envs/myenv/lib/python3.11/site-packages/bokeh/models/layouts.py\", line 102, in __init__\n",
      "    super().__init__(*args, **kwargs)\n",
      "  File \"/Users/nikolajgudkov/opt/anaconda3/envs/myenv/lib/python3.11/site-packages/bokeh/models/ui/panes.py\", line 50, in __init__\n",
      "    super().__init__(*args, **kwargs)\n",
      "  File \"/Users/nikolajgudkov/opt/anaconda3/envs/myenv/lib/python3.11/site-packages/bokeh/models/ui/ui_element.py\", line 107, in __init__\n",
      "    super().__init__(*args, **kwargs)\n",
      "  File \"/Users/nikolajgudkov/opt/anaconda3/envs/myenv/lib/python3.11/site-packages/bokeh/models/ui/ui_element.py\", line 63, in __init__\n",
      "    super().__init__(*args, **kwargs)\n",
      "  File \"/Users/nikolajgudkov/opt/anaconda3/envs/myenv/lib/python3.11/site-packages/bokeh/model/model.py\", line 119, in __init__\n",
      "    super().__init__(**kwargs)\n",
      "  File \"/Users/nikolajgudkov/opt/anaconda3/envs/myenv/lib/python3.11/site-packages/bokeh/core/has_props.py\", line 304, in __init__\n",
      "    setattr(self, name, value)\n",
      "  File \"/Users/nikolajgudkov/opt/anaconda3/envs/myenv/lib/python3.11/site-packages/bokeh/core/has_props.py\", line 342, in __setattr__\n",
      "    self._raise_attribute_error_with_matches(name, properties)\n",
      "  File \"/Users/nikolajgudkov/opt/anaconda3/envs/myenv/lib/python3.11/site-packages/bokeh/core/has_props.py\", line 377, in _raise_attribute_error_with_matches\n",
      "    raise AttributeError(f\"unexpected attribute {name!r} to {self.__class__.__name__}, {text} attributes are {nice_join(matches)}\")\n",
      "AttributeError: unexpected attribute 'title' to Div, possible attributes are align, aspect_ratio, context_menu, css_classes, css_variables, disable_math, disabled, elements, flow_mode, height, height_policy, js_event_callbacks, js_property_callbacks, margin, max_height, max_width, min_height, min_width, name, render_as_text, resizable, sizing_mode, styles, stylesheets, subscribed_events, syncable, tags, text, visible, width or width_policy\n",
      " \n",
      "2025-04-08 13:34:06,994 WebSocket connection opened\n",
      "2025-04-08 13:34:06,995 ServerConnection created\n",
      "2025-04-08 13:34:18,443 WebSocket connection closed: code=1001, reason=None\n"
     ]
    }
   ],
   "source": [
    "!bokeh serve --show app_new.py"
   ]
  },
  {
   "cell_type": "code",
   "execution_count": null,
   "id": "90353373-d4b3-499b-be10-72759bb87d7d",
   "metadata": {},
   "outputs": [],
   "source": []
  }
 ],
 "metadata": {
  "kernelspec": {
   "display_name": "Python 3 (ipykernel)",
   "language": "python",
   "name": "python3"
  },
  "language_info": {
   "codemirror_mode": {
    "name": "ipython",
    "version": 3
   },
   "file_extension": ".py",
   "mimetype": "text/x-python",
   "name": "python",
   "nbconvert_exporter": "python",
   "pygments_lexer": "ipython3",
   "version": "3.11.11"
  }
 },
 "nbformat": 4,
 "nbformat_minor": 5
}
