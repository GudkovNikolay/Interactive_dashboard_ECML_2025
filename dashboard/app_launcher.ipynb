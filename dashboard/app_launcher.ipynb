{
 "cells": [
  {
   "cell_type": "code",
   "execution_count": null,
   "id": "552af307-4708-42d1-b2db-cede7960d80a",
   "metadata": {},
   "outputs": [
    {
     "name": "stdout",
     "output_type": "stream",
     "text": [
      "2025-04-12 20:55:00,773 Starting Bokeh server version 3.6.3 (running on Tornado 6.4.2)\n",
      "2025-04-12 20:55:00,778 User authentication hooks NOT provided (default user enabled)\n",
      "2025-04-12 20:55:00,786 Bokeh app running at: http://localhost:5006/app_crash\n",
      "2025-04-12 20:55:00,786 Starting Bokeh server with process id: 2070\n",
      "AAAAAAA data True data/tickers.csv True\n",
      "Chosen tickers: ['SBER', 'LKOH', 'SBERP', 'VTBR', 'MOEX']\n",
      "Length before dropping NaNs: 2603\n",
      "Length after dropping NaNs: 2577\n",
      "/Users/nikolajgudkov/opt/anaconda3/envs/myenv/lib/python3.11/site-packages/torch/nn/utils/weight_norm.py:28: UserWarning: torch.nn.utils.weight_norm is deprecated in favor of torch.nn.utils.parametrizations.weight_norm.\n",
      "  warnings.warn(\"torch.nn.utils.weight_norm is deprecated in favor of torch.nn.utils.parametrizations.weight_norm.\")\n",
      "Load 800 epoch and 2 kernek_size checkpoint\n",
      "tensor(-0.0230)\n",
      "2025-04-12 20:55:29,827 WebSocket connection opened\n",
      "2025-04-12 20:55:29,830 ServerConnection created\n"
     ]
    }
   ],
   "source": [
    "!bokeh serve --show app_crash.py"
   ]
  },
  {
   "cell_type": "code",
   "execution_count": 1,
   "id": "c03bfb49-c08c-497c-a2ed-32272a81e369",
   "metadata": {},
   "outputs": [],
   "source": [
    "from library.gan_train_loop import train_epoch"
   ]
  },
  {
   "cell_type": "code",
   "execution_count": 1,
   "id": "90353373-d4b3-499b-be10-72759bb87d7d",
   "metadata": {},
   "outputs": [
    {
     "name": "stdout",
     "output_type": "stream",
     "text": [
      "Python 3.11.11\n"
     ]
    }
   ],
   "source": [
    "!python3 --version"
   ]
  },
  {
   "cell_type": "code",
   "execution_count": null,
   "id": "467ba29b-8d6f-49b3-bdec-9e43666e02ea",
   "metadata": {},
   "outputs": [],
   "source": []
  }
 ],
 "metadata": {
  "kernelspec": {
   "display_name": "Python 3 (ipykernel)",
   "language": "python",
   "name": "python3"
  },
  "language_info": {
   "codemirror_mode": {
    "name": "ipython",
    "version": 3
   },
   "file_extension": ".py",
   "mimetype": "text/x-python",
   "name": "python",
   "nbconvert_exporter": "python",
   "pygments_lexer": "ipython3",
   "version": "3.11.11"
  }
 },
 "nbformat": 4,
 "nbformat_minor": 5
}
