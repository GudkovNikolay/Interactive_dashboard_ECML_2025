{
 "cells": [
  {
   "cell_type": "code",
   "execution_count": null,
   "id": "552af307-4708-42d1-b2db-cede7960d80a",
   "metadata": {},
   "outputs": [
    {
     "name": "stdout",
     "output_type": "stream",
     "text": [
      "2025-04-10 15:29:53,451 Starting Bokeh server version 3.6.3 (running on Tornado 6.4.2)\n",
      "2025-04-10 15:29:53,455 User authentication hooks NOT provided (default user enabled)\n",
      "2025-04-10 15:29:53,459 Bokeh app running at: http://localhost:5006/app3\n",
      "2025-04-10 15:29:53,460 Starting Bokeh server with process id: 46607\n",
      "2025-04-10 15:29:59,539 Error running application handler <bokeh.application.handlers.script.ScriptHandler object at 0x113dc3910>: \n",
      "File 'dataset.py', line 17, in get_prices:\n",
      "assert DATA_FOLDER.exists() and CLOSE_FOLDER.exists() and tickers_file.exists() Traceback (most recent call last):\n",
      "  File \"/Users/nikolajgudkov/opt/anaconda3/envs/myenv/lib/python3.11/site-packages/bokeh/application/handlers/code_runner.py\", line 229, in run\n",
      "    exec(self._code, module.__dict__)\n",
      "  File \"/Users/nikolajgudkov/Desktop/курсач/андрей/gan-moex/dashboard/app3.py\", line 26, in <module>\n",
      "    df_returns_real = get_pytorch_datataset()[0].cumsum()\n",
      "                      ^^^^^^^^^^^^^^^^^^^^^^^\n",
      "  File \"/Users/nikolajgudkov/Desktop/курсач/андрей/gan-moex/dashboard/library/dataset.py\", line 86, in get_pytorch_datataset\n",
      "    df_returns = get_log_returns(get_prices())\n",
      "                                 ^^^^^^^^^^^^\n",
      "  File \"/Users/nikolajgudkov/Desktop/курсач/андрей/gan-moex/dashboard/library/dataset.py\", line 17, in get_prices\n",
      "    assert DATA_FOLDER.exists() and CLOSE_FOLDER.exists() and tickers_file.exists()\n",
      "           ^^^^^^^^^^^^^^^^^^^^^^^^^^^^^^^^^^^^^^^^^^^^^^^^^^^^^^^^^^^^^^^^^^^^^^^^\n",
      "AssertionError\n",
      " \n",
      "2025-04-10 15:30:00,161 WebSocket connection opened\n",
      "2025-04-10 15:30:00,162 ServerConnection created\n"
     ]
    }
   ],
   "source": [
    "!bokeh serve --show app3.py"
   ]
  },
  {
   "cell_type": "code",
   "execution_count": 1,
   "id": "c03bfb49-c08c-497c-a2ed-32272a81e369",
   "metadata": {},
   "outputs": [],
   "source": [
    "from library.gan_train_loop import train_epoch"
   ]
  },
  {
   "cell_type": "code",
   "execution_count": null,
   "id": "90353373-d4b3-499b-be10-72759bb87d7d",
   "metadata": {},
   "outputs": [],
   "source": []
  }
 ],
 "metadata": {
  "kernelspec": {
   "display_name": "Python 3 (ipykernel)",
   "language": "python",
   "name": "python3"
  },
  "language_info": {
   "codemirror_mode": {
    "name": "ipython",
    "version": 3
   },
   "file_extension": ".py",
   "mimetype": "text/x-python",
   "name": "python",
   "nbconvert_exporter": "python",
   "pygments_lexer": "ipython3",
   "version": "3.11.11"
  }
 },
 "nbformat": 4,
 "nbformat_minor": 5
}
